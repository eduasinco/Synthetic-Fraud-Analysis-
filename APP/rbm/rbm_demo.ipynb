{
 "cells": [
  {
   "cell_type": "code",
   "execution_count": 2,
   "metadata": {},
   "outputs": [],
   "source": [
    "import pandas as pd\n",
    "import numpy as np\n",
    "import tensorflow as tf\n",
    "import time\n",
    "import os\n",
    "from datetime import datetime \n",
    "from sklearn.metrics import roc_auc_score as auc "
   ]
  },
  {
   "cell_type": "code",
   "execution_count": 3,
   "metadata": {},
   "outputs": [],
   "source": [
    "import matplotlib.pyplot as plt\n",
    "import matplotlib.gridspec as gridspec\n",
    "%matplotlib inline"
   ]
  },
  {
   "cell_type": "code",
   "execution_count": 4,
   "metadata": {},
   "outputs": [
    {
     "data": {
      "text/html": [
       "<div>\n",
       "<style scoped>\n",
       "    .dataframe tbody tr th:only-of-type {\n",
       "        vertical-align: middle;\n",
       "    }\n",
       "\n",
       "    .dataframe tbody tr th {\n",
       "        vertical-align: top;\n",
       "    }\n",
       "\n",
       "    .dataframe thead th {\n",
       "        text-align: right;\n",
       "    }\n",
       "</style>\n",
       "<table border=\"1\" class=\"dataframe\">\n",
       "  <thead>\n",
       "    <tr style=\"text-align: right;\">\n",
       "      <th></th>\n",
       "      <th>step</th>\n",
       "      <th>age</th>\n",
       "      <th>gender</th>\n",
       "      <th>category</th>\n",
       "      <th>amount</th>\n",
       "    </tr>\n",
       "  </thead>\n",
       "  <tbody>\n",
       "    <tr>\n",
       "      <th>0</th>\n",
       "      <td>0</td>\n",
       "      <td>4</td>\n",
       "      <td>2</td>\n",
       "      <td>12</td>\n",
       "      <td>4.55</td>\n",
       "    </tr>\n",
       "    <tr>\n",
       "      <th>1</th>\n",
       "      <td>0</td>\n",
       "      <td>2</td>\n",
       "      <td>2</td>\n",
       "      <td>12</td>\n",
       "      <td>39.68</td>\n",
       "    </tr>\n",
       "    <tr>\n",
       "      <th>2</th>\n",
       "      <td>0</td>\n",
       "      <td>4</td>\n",
       "      <td>1</td>\n",
       "      <td>12</td>\n",
       "      <td>26.89</td>\n",
       "    </tr>\n",
       "    <tr>\n",
       "      <th>3</th>\n",
       "      <td>0</td>\n",
       "      <td>3</td>\n",
       "      <td>2</td>\n",
       "      <td>12</td>\n",
       "      <td>17.25</td>\n",
       "    </tr>\n",
       "    <tr>\n",
       "      <th>4</th>\n",
       "      <td>0</td>\n",
       "      <td>5</td>\n",
       "      <td>2</td>\n",
       "      <td>12</td>\n",
       "      <td>35.72</td>\n",
       "    </tr>\n",
       "  </tbody>\n",
       "</table>\n",
       "</div>"
      ],
      "text/plain": [
       "   step  age  gender  category  amount\n",
       "0     0    4       2        12    4.55\n",
       "1     0    2       2        12   39.68\n",
       "2     0    4       1        12   26.89\n",
       "3     0    3       2        12   17.25\n",
       "4     0    5       2        12   35.72"
      ]
     },
     "execution_count": 4,
     "metadata": {},
     "output_type": "execute_result"
    }
   ],
   "source": [
    "import numpy as np\n",
    "import pandas as pd\n",
    "from sklearn.cluster import KMeans\n",
    "from sklearn.neighbors import KNeighborsClassifier\n",
    "from sklearn.model_selection import train_test_split\n",
    "from sklearn.preprocessing import normalize\n",
    "from sklearn.metrics import confusion_matrix\n",
    "from sklearn.metrics import accuracy_score\n",
    "from sklearn.metrics import precision_score\n",
    "from sklearn.metrics import recall_score\n",
    "from sklearn.metrics import f1_score\n",
    "from sklearn import preprocessing\n",
    "import time\n",
    "df = pd.read_csv('/Users/eduardorodriguez/Desktop/TFM/DATA/banksim/banksim.csv')\n",
    "\n",
    "le = preprocessing.LabelEncoder()\n",
    "le.fit(list(set(df['category'])))\n",
    "df['category'] = le.transform(df['category'])\n",
    "\n",
    "le.fit(list(set(df['age'])))\n",
    "df['age'] = le.transform(df['age'])\n",
    "\n",
    "le.fit(list(set(df['gender'])))\n",
    "df['gender'] = le.transform(df['gender'])\n",
    "\n",
    "df_data = df\n",
    "#X = df.loc[(df.category == 'es_sportsandtoys') | (df.category == 'es_fashion') | (df.category == 'es_travel') | (df.category == 'es_home') |(df.category == 'es_health') | (df.category == 'es_leisure') | df.category == 'es_tech') | (df.category == 'es_otherservices') | (df.category == 'es_barsandrestaurants') |(df.category == 'es_hyper') | (df.category == 'es_wellnessandbeauty')]\n",
    "y = df_data['fraud']\n",
    "\n",
    "df = df.drop(['customer', 'merchant', 'zipMerchant', 'zipcodeOri'], axis = 1)\n",
    "X = df_data.drop(['customer', 'merchant', 'zipMerchant', 'zipcodeOri', 'fraud'], axis = 1)\n",
    "X.head()"
   ]
  },
  {
   "cell_type": "markdown",
   "metadata": {},
   "source": [
    "## Split data by 50-50"
   ]
  },
  {
   "cell_type": "code",
   "execution_count": 5,
   "metadata": {},
   "outputs": [],
   "source": [
    "TEST_RATIO = 0.2\n",
    "df.sort_values('step', inplace = True)\n",
    "TRA_INDEX = int((1-TEST_RATIO) * df.shape[0])\n",
    "train_x = df.iloc[:TRA_INDEX, :-1].values\n",
    "train_y = df.iloc[:TRA_INDEX, -1].values\n",
    "\n",
    "test_x = df.iloc[TRA_INDEX:, :-1].values\n",
    "test_y = df.iloc[TRA_INDEX:, -1].values"
   ]
  },
  {
   "cell_type": "markdown",
   "metadata": {},
   "source": [
    "## Pre-processing - z scores"
   ]
  },
  {
   "cell_type": "code",
   "execution_count": 5,
   "metadata": {},
   "outputs": [],
   "source": [
    "cols_mean = []\n",
    "cols_std = []\n",
    "for c in range(train_x.shape[1]):\n",
    "    cols_mean.append(train_x[:,c].mean())\n",
    "    cols_std.append(train_x[:,c].std())\n",
    "    train_x[:, c] = (train_x[:, c] - cols_mean[-1]) / cols_std[-1]\n",
    "    test_x[:, c] =  (test_x[:, c] - cols_mean[-1]) / cols_std[-1]"
   ]
  },
  {
   "cell_type": "markdown",
   "metadata": {},
   "source": [
    "## import RBM"
   ]
  },
  {
   "cell_type": "code",
   "execution_count": 6,
   "metadata": {},
   "outputs": [],
   "source": [
    "from rbm import RBM"
   ]
  },
  {
   "cell_type": "markdown",
   "metadata": {},
   "source": [
    "## Initialize model object with momentum"
   ]
  },
  {
   "cell_type": "code",
   "execution_count": 7,
   "metadata": {},
   "outputs": [],
   "source": [
    "model = RBM(train_x.shape[1], 10, visible_unit_type='gauss', main_dir='model', model_name='rbm_model.ckpt',\n",
    "                 gibbs_sampling_steps=4, learning_rate=0.00001, momentum = 0.95, batch_size=10000, num_epochs=200, verbose=1)\n"
   ]
  },
  {
   "cell_type": "markdown",
   "metadata": {},
   "source": [
    "## Train it and plot training reconstruction loss v.s. iteractions"
   ]
  },
  {
   "cell_type": "code",
   "execution_count": 8,
   "metadata": {
    "scrolled": false
   },
   "outputs": [
    {
     "name": "stdout",
     "output_type": "stream",
     "text": [
      "Validation cost at step 0: 1.2291074\n",
      "Validation cost at step 1: 1.2762034\n",
      "Validation cost at step 2: 1.2619282\n",
      "Validation cost at step 3: 1.2924548\n",
      "Validation cost at step 4: 1.2908858\n",
      "Validation cost at step 5: 1.2699268\n",
      "Validation cost at step 6: 1.2720201\n",
      "Validation cost at step 7: 1.2603142\n",
      "Validation cost at step 8: 1.271427\n",
      "Validation cost at step 9: 1.2688937\n",
      "Validation cost at step 10: 1.2956104\n",
      "Validation cost at step 11: 1.2864671\n",
      "Validation cost at step 12: 1.221134\n",
      "Validation cost at step 13: 1.2765659\n",
      "Validation cost at step 14: 1.2103418\n",
      "Validation cost at step 15: 1.3002584\n",
      "Validation cost at step 16: 1.2766975\n",
      "Validation cost at step 17: 1.2770101\n",
      "Validation cost at step 18: 1.2371801\n",
      "Validation cost at step 19: 1.2775892\n",
      "Validation cost at step 20: 1.2679847\n",
      "Validation cost at step 21: 1.2453945\n",
      "Validation cost at step 22: 1.212926\n",
      "Validation cost at step 23: 1.2671397\n",
      "Validation cost at step 24: 1.2939246\n",
      "Validation cost at step 25: 1.2938465\n",
      "Validation cost at step 26: 1.258227\n",
      "Validation cost at step 27: 1.3243484\n",
      "Validation cost at step 28: 1.2620791\n",
      "Validation cost at step 29: 1.2632471\n",
      "Validation cost at step 30: 1.2556509\n",
      "Validation cost at step 31: 1.2278445\n",
      "Validation cost at step 32: 1.2932496\n",
      "Validation cost at step 33: 1.2507521\n",
      "Validation cost at step 34: 1.2887205\n",
      "Validation cost at step 35: 1.2217785\n",
      "Validation cost at step 36: 1.2714288\n",
      "Validation cost at step 37: 1.2706583\n",
      "Validation cost at step 38: 1.267777\n",
      "Validation cost at step 39: 1.2648149\n",
      "Validation cost at step 40: 1.2748796\n",
      "Validation cost at step 41: 1.3121957\n",
      "Validation cost at step 42: 1.2220129\n",
      "Validation cost at step 43: 1.2552539\n",
      "Validation cost at step 44: 1.2326615\n",
      "Validation cost at step 45: 1.2558042\n",
      "Validation cost at step 46: 1.2703557\n",
      "Validation cost at step 47: 1.2784681\n",
      "Validation cost at step 48: 1.2518473\n",
      "Validation cost at step 49: 1.2853887\n",
      "Validation cost at step 50: 1.2495208\n",
      "Validation cost at step 51: 1.2851957\n",
      "Validation cost at step 52: 1.2340437\n",
      "Validation cost at step 53: 1.2595549\n",
      "Validation cost at step 54: 1.2647992\n",
      "Validation cost at step 55: 1.3041687\n",
      "Validation cost at step 56: 1.2773371\n",
      "Validation cost at step 57: 1.2481455\n",
      "Validation cost at step 58: 1.264098\n",
      "Validation cost at step 59: 1.26344\n",
      "Validation cost at step 60: 1.2124187\n",
      "Validation cost at step 61: 1.2664367\n",
      "Validation cost at step 62: 1.165392\n",
      "Validation cost at step 63: 1.1730531\n",
      "Validation cost at step 64: 1.1102028\n",
      "Validation cost at step 65: 1.089868\n",
      "Validation cost at step 66: 1.0536151\n",
      "Validation cost at step 67: 1.0595828\n",
      "Validation cost at step 68: 1.0059043\n",
      "Validation cost at step 69: 0.9758493\n",
      "Validation cost at step 70: 0.91313887\n",
      "Validation cost at step 71: 0.9202836\n",
      "Validation cost at step 72: 0.92574114\n",
      "Validation cost at step 73: 0.84517384\n",
      "Validation cost at step 74: 0.9024169\n",
      "Validation cost at step 75: 0.80166703\n",
      "Validation cost at step 76: 0.8250788\n",
      "Validation cost at step 77: 0.7465015\n",
      "Validation cost at step 78: 0.77696455\n",
      "Validation cost at step 79: 0.76910573\n",
      "Validation cost at step 80: 0.7287185\n",
      "Validation cost at step 81: 0.75565606\n",
      "Validation cost at step 82: 0.7261003\n",
      "Validation cost at step 83: 0.7858343\n",
      "Validation cost at step 84: 0.7663312\n",
      "Validation cost at step 85: 0.7578653\n",
      "Validation cost at step 86: 0.754643\n",
      "Validation cost at step 87: 0.8025228\n",
      "Validation cost at step 88: 0.7295966\n",
      "Validation cost at step 89: 0.74478\n",
      "Validation cost at step 90: 0.7475931\n",
      "Validation cost at step 91: 0.7397625\n",
      "Validation cost at step 92: 0.6913334\n",
      "Validation cost at step 93: 0.70329416\n",
      "Validation cost at step 94: 0.70074266\n",
      "Validation cost at step 95: 0.6669469\n",
      "Validation cost at step 96: 0.6821157\n",
      "Validation cost at step 97: 0.72138715\n",
      "Validation cost at step 98: 0.66638976\n",
      "Validation cost at step 99: 0.6880722\n",
      "Validation cost at step 100: 0.6767797\n",
      "Validation cost at step 101: 0.5811978\n",
      "Validation cost at step 102: 0.6096164\n",
      "Validation cost at step 103: 0.5832959\n",
      "Validation cost at step 104: 0.58080375\n",
      "Validation cost at step 105: 0.67328936\n",
      "Validation cost at step 106: 0.60495776\n",
      "Validation cost at step 107: 0.6115691\n",
      "Validation cost at step 108: 0.64747745\n",
      "Validation cost at step 109: 0.59766823\n",
      "Validation cost at step 110: 0.58848625\n",
      "Validation cost at step 111: 0.60188895\n",
      "Validation cost at step 112: 0.6023916\n",
      "Validation cost at step 113: 0.6130485\n",
      "Validation cost at step 114: 0.58895093\n",
      "Validation cost at step 115: 0.6084853\n",
      "Validation cost at step 116: 0.5898812\n",
      "Validation cost at step 117: 0.61073965\n",
      "Validation cost at step 118: 0.6342582\n",
      "Validation cost at step 119: 0.6457695\n",
      "Validation cost at step 120: 0.5804858\n",
      "Validation cost at step 121: 0.5673549\n",
      "Validation cost at step 122: 0.5722152\n",
      "Validation cost at step 123: 0.5842814\n",
      "Validation cost at step 124: 0.66146636\n",
      "Validation cost at step 125: 0.5878197\n",
      "Validation cost at step 126: 0.5937473\n",
      "Validation cost at step 127: 0.67232466\n",
      "Validation cost at step 128: 0.5942292\n",
      "Validation cost at step 129: 0.57976377\n",
      "Validation cost at step 130: 0.57648325\n",
      "Validation cost at step 131: 0.53944165\n",
      "Validation cost at step 132: 0.5690277\n",
      "Validation cost at step 133: 0.57508916\n",
      "Validation cost at step 134: 0.5779521\n",
      "Validation cost at step 135: 0.6167719\n",
      "Validation cost at step 136: 0.56302494\n",
      "Validation cost at step 137: 0.5762128\n",
      "Validation cost at step 138: 0.60495144\n",
      "Validation cost at step 139: 0.5910273\n",
      "Validation cost at step 140: 0.5741445\n",
      "Validation cost at step 141: 0.66004425\n",
      "Validation cost at step 142: 0.57788545\n",
      "Validation cost at step 143: 0.5779153\n",
      "Validation cost at step 144: 0.62062615\n",
      "Validation cost at step 145: 0.572376\n",
      "Validation cost at step 146: 0.6250018\n",
      "Validation cost at step 147: 0.57746387\n",
      "Validation cost at step 148: 0.5960746\n",
      "Validation cost at step 149: 0.5779279\n",
      "Validation cost at step 150: 0.6782224\n",
      "Validation cost at step 151: 0.5703462\n",
      "Validation cost at step 152: 0.5805622\n",
      "Validation cost at step 153: 0.53469664\n",
      "Validation cost at step 154: 0.5519155\n",
      "Validation cost at step 155: 0.579599\n",
      "Validation cost at step 156: 0.58401614\n",
      "Validation cost at step 157: 0.5788532\n",
      "Validation cost at step 158: 0.5752693\n",
      "Validation cost at step 159: 0.5833536\n",
      "Validation cost at step 160: 0.5771117\n",
      "Validation cost at step 161: 0.5863109\n",
      "Validation cost at step 162: 0.58933264\n",
      "Validation cost at step 163: 0.5926504\n",
      "Validation cost at step 164: 0.58910733\n",
      "Validation cost at step 165: 0.59785664\n",
      "Validation cost at step 166: 0.6066418\n",
      "Validation cost at step 167: 0.6287357\n",
      "Validation cost at step 168: 0.62636477\n",
      "Validation cost at step 169: 0.5675443\n",
      "Validation cost at step 170: 0.57867754\n",
      "Validation cost at step 171: 0.5771654\n",
      "Validation cost at step 172: 0.60136443\n",
      "Validation cost at step 173: 0.58792657\n",
      "Validation cost at step 174: 0.60602707\n",
      "Validation cost at step 175: 0.5988073\n",
      "Validation cost at step 176: 0.5531373\n",
      "Validation cost at step 177: 0.5880095\n",
      "Validation cost at step 178: 0.6148896\n",
      "Validation cost at step 179: 0.5738131\n",
      "Validation cost at step 180: 0.61501086\n",
      "Validation cost at step 181: 0.5815661\n",
      "Validation cost at step 182: 0.6097497\n",
      "Validation cost at step 183: 0.5485307\n",
      "Validation cost at step 184: 0.566405\n",
      "Validation cost at step 185: 0.56961757\n",
      "Validation cost at step 186: 0.5769318\n",
      "Validation cost at step 187: 0.55282533\n",
      "Validation cost at step 188: 0.56265646\n",
      "Validation cost at step 189: 0.5895378\n",
      "Validation cost at step 190: 0.55142206\n",
      "Validation cost at step 191: 0.5911308\n",
      "Validation cost at step 192: 0.5862387\n",
      "Validation cost at step 193: 0.55791014\n",
      "Validation cost at step 194: 0.6001768\n",
      "Validation cost at step 195: 0.54317135\n",
      "Validation cost at step 196: 0.607453\n",
      "Validation cost at step 197: 0.55971944\n",
      "Validation cost at step 198: 0.5447375\n",
      "Validation cost at step 199: 0.5889885\n"
     ]
    },
    {
     "data": {
      "image/png": "[encoded data removed]",
      "text/plain": [
       "<Figure size 432x288 with 1 Axes>"
      ]
     },
     "metadata": {},
     "output_type": "display_data"
    }
   ],
   "source": [
    "start = time.clock() \n",
    "model.fit(train_x, validation_set=test_x)\n",
    "elapsed2 = time.clock()\n",
    "elapsed2 = elapsed2 - start"
   ]
  },
  {
   "cell_type": "markdown",
   "metadata": {},
   "source": [
    "## Make predictions on val - Free Energy"
   ]
  },
  {
   "cell_type": "code",
   "execution_count": 9,
   "metadata": {},
   "outputs": [
    {
     "data": {
      "text/plain": [
       "394.91342000000003"
      ]
     },
     "execution_count": 9,
     "metadata": {},
     "output_type": "execute_result"
    }
   ],
   "source": [
    "elapsed2"
   ]
  },
  {
   "cell_type": "code",
   "execution_count": 10,
   "metadata": {},
   "outputs": [
    {
     "name": "stdout",
     "output_type": "stream",
     "text": [
      "INFO:tensorflow:Restoring parameters from model/rbm_model.ckpt\n"
     ]
    }
   ],
   "source": [
    "start = time.clock()\n",
    "test_cost = model.getFreeEnergy(test_x).reshape(-1)\n",
    "elapsed = time.clock()\n",
    "elapsed = elapsed - start"
   ]
  },
  {
   "cell_type": "code",
   "execution_count": 11,
   "metadata": {},
   "outputs": [
    {
     "data": {
      "text/plain": [
       "0.08025400000002492"
      ]
     },
     "execution_count": 11,
     "metadata": {},
     "output_type": "execute_result"
    }
   ],
   "source": [
    "elapsed"
   ]
  },
  {
   "cell_type": "markdown",
   "metadata": {},
   "source": [
    "## AUC-ROC curve on val"
   ]
  },
  {
   "cell_type": "code",
   "execution_count": 12,
   "metadata": {},
   "outputs": [
    {
     "data": {
      "text/plain": [
       "0.8009393341103621"
      ]
     },
     "execution_count": 12,
     "metadata": {},
     "output_type": "execute_result"
    }
   ],
   "source": [
    "auc(test_y, test_cost)"
   ]
  },
  {
   "cell_type": "code",
   "execution_count": 13,
   "metadata": {},
   "outputs": [],
   "source": [
    "#Creating class labels based on decision function\n",
    "test_cost=test_cost.copy()\n",
    "test_cost[test_cost>=np.percentile(test_cost,95)]=1\n",
    "test_cost[test_cost<np.percentile(test_cost,95)]=0"
   ]
  },
  {
   "cell_type": "code",
   "execution_count": 14,
   "metadata": {},
   "outputs": [
    {
     "data": {
      "text/plain": [
       "0.1934412619344126"
      ]
     },
     "execution_count": 14,
     "metadata": {},
     "output_type": "execute_result"
    }
   ],
   "source": [
    "f1_score(test_y, test_cost)"
   ]
  },
  {
   "cell_type": "code",
   "execution_count": 15,
   "metadata": {},
   "outputs": [
    {
     "data": {
      "image/png": "[encoded data removed]",
      "text/plain": [
       "<Figure size 432x288 with 1 Axes>"
      ]
     },
     "metadata": {},
     "output_type": "display_data"
    }
   ],
   "source": [
    "from sklearn.metrics import roc_curve, auc\n",
    "fpr, tpr, _ = roc_curve(test_y, test_cost)\n",
    "\n",
    "fpr_micro, tpr_micro, _ = roc_curve(test_y, test_cost)\n",
    "roc_auc = auc(fpr_micro, tpr_micro)\n",
    "\n",
    "plt.plot(fpr, tpr, color='darkorange',\n",
    "         lw=2, label='ROC curve (area = %0.2f)' % roc_auc)\n",
    "plt.plot([0, 1], [0, 1], color='navy', lw=2, linestyle='--')\n",
    "plt.xlim([0.0, 1.0])\n",
    "plt.ylim([0.0, 1.05])\n",
    "plt.xlabel('False Positive Rate')\n",
    "plt.ylabel('True Positive Rate')\n",
    "plt.title('ROC curve on val data set')\n",
    "plt.legend(loc=\"lower right\")\n",
    "plt.show()"
   ]
  },
  {
   "cell_type": "markdown",
   "metadata": {},
   "source": [
    "## Distribution for FE on val set - fraud and non-fraud"
   ]
  },
  {
   "cell_type": "code",
   "execution_count": 16,
   "metadata": {},
   "outputs": [
    {
     "name": "stderr",
     "output_type": "stream",
     "text": [
      "/Users/eduardorodriguez/anaconda2/envs/TFM/lib/python3.6/site-packages/matplotlib/axes/_axes.py:6462: UserWarning: The 'normed' kwarg is deprecated, and has been replaced by the 'density' kwarg.\n",
      "  warnings.warn(\"The 'normed' kwarg is deprecated, and has been \"\n"
     ]
    },
    {
     "data": {
      "image/png": "[encoded data removed]",
      "text/plain": [
       "<Figure size 432x288 with 1 Axes>"
      ]
     },
     "metadata": {},
     "output_type": "display_data"
    }
   ],
   "source": [
    "#plt.hist(test_cost[np.where(test_y == 1)], bins = 100)\n",
    "plt.title('Free energy distribution of val set')\n",
    "plt.xlabel('Free energy')\n",
    "plt.ylabel('Probabilties')\n",
    "plt.hist(test_cost[(test_y == 0) & (test_cost < 500)], bins = 100, color='green', normed=1.0, label='Non-Fraud')\n",
    "plt.hist(test_cost[(test_y == 1) & (test_cost < 500)], bins = 100, color='red', normed=1.0, label = 'Fraud')\n",
    "\n",
    "plt.legend(loc=\"upper right\")\n",
    "plt.show()"
   ]
  },
  {
   "cell_type": "code",
   "execution_count": 17,
   "metadata": {},
   "outputs": [
    {
     "name": "stderr",
     "output_type": "stream",
     "text": [
      "/Users/eduardorodriguez/anaconda2/envs/TFM/lib/python3.6/site-packages/matplotlib/axes/_axes.py:6462: UserWarning: The 'normed' kwarg is deprecated, and has been replaced by the 'density' kwarg.\n",
      "  warnings.warn(\"The 'normed' kwarg is deprecated, and has been \"\n"
     ]
    },
    {
     "data": {
      "image/png": "[encoded data removed]",
      "text/plain": [
       "<Figure size 432x288 with 1 Axes>"
      ]
     },
     "metadata": {},
     "output_type": "display_data"
    }
   ],
   "source": [
    "#plt.hist(test_cost[np.where(test_y == 1)], bins = 100)\n",
    "plt.hist(test_cost[(test_y == 0) & (test_cost < 500)], bins = 100, color='green', normed=1)\n",
    "\n",
    "plt.title('Free energy distribution of non-fraud cases')\n",
    "plt.xlabel('Free energy')\n",
    "plt.ylabel('Probabilities')\n",
    "plt.show()"
   ]
  },
  {
   "cell_type": "code",
   "execution_count": 18,
   "metadata": {
    "scrolled": false
   },
   "outputs": [
    {
     "ename": "TypeError",
     "evalue": "argument of type 'int' is not iterable",
     "output_type": "error",
     "traceback": [
      "\u001b[0;31m---------------------------------------------------------------------------\u001b[0m",
      "\u001b[0;31mTypeError\u001b[0m                                 Traceback (most recent call last)",
      "\u001b[0;32m<ipython-input-18-79196b98c5a2>\u001b[0m in \u001b[0;36m<module>\u001b[0;34m()\u001b[0m\n\u001b[1;32m      2\u001b[0m \u001b[0;32mimport\u001b[0m \u001b[0mplotly\u001b[0m\u001b[0;34m.\u001b[0m\u001b[0mgraph_objs\u001b[0m \u001b[0;32mas\u001b[0m \u001b[0mgo\u001b[0m\u001b[0;34m\u001b[0m\u001b[0m\n\u001b[1;32m      3\u001b[0m \u001b[0mdata\u001b[0m \u001b[0;34m=\u001b[0m \u001b[0mlist\u001b[0m\u001b[0;34m(\u001b[0m\u001b[0mmap\u001b[0m\u001b[0;34m(\u001b[0m\u001b[0mint\u001b[0m\u001b[0;34m,\u001b[0m \u001b[0mlist\u001b[0m\u001b[0;34m(\u001b[0m\u001b[0mtest_cost\u001b[0m\u001b[0;34m[\u001b[0m\u001b[0;34m(\u001b[0m\u001b[0mtest_y\u001b[0m \u001b[0;34m==\u001b[0m \u001b[0;36m0\u001b[0m\u001b[0;34m)\u001b[0m \u001b[0;34m&\u001b[0m \u001b[0;34m(\u001b[0m\u001b[0mtest_cost\u001b[0m \u001b[0;34m<\u001b[0m \u001b[0;36m500\u001b[0m\u001b[0;34m)\u001b[0m\u001b[0;34m]\u001b[0m\u001b[0;34m)\u001b[0m\u001b[0;34m)\u001b[0m\u001b[0;34m)\u001b[0m\u001b[0;34m\u001b[0m\u001b[0m\n\u001b[0;32m----> 4\u001b[0;31m \u001b[0mpy\u001b[0m\u001b[0;34m.\u001b[0m\u001b[0miplot\u001b[0m\u001b[0;34m(\u001b[0m\u001b[0mdata\u001b[0m\u001b[0;34m,\u001b[0m \u001b[0mfilename\u001b[0m\u001b[0;34m=\u001b[0m\u001b[0;34m'basic histogram'\u001b[0m\u001b[0;34m,\u001b[0m \u001b[0mvalidate\u001b[0m\u001b[0;34m=\u001b[0m\u001b[0;32mFalse\u001b[0m\u001b[0;34m)\u001b[0m\u001b[0;34m\u001b[0m\u001b[0m\n\u001b[0m",
      "\u001b[0;32m~/anaconda2/envs/TFM/lib/python3.6/site-packages/plotly/plotly/plotly.py\u001b[0m in \u001b[0;36miplot\u001b[0;34m(figure_or_data, **plot_options)\u001b[0m\n\u001b[1;32m    138\u001b[0m     \u001b[0;32mif\u001b[0m \u001b[0;34m'auto_open'\u001b[0m \u001b[0;32mnot\u001b[0m \u001b[0;32min\u001b[0m \u001b[0mplot_options\u001b[0m\u001b[0;34m:\u001b[0m\u001b[0;34m\u001b[0m\u001b[0m\n\u001b[1;32m    139\u001b[0m         \u001b[0mplot_options\u001b[0m\u001b[0;34m[\u001b[0m\u001b[0;34m'auto_open'\u001b[0m\u001b[0;34m]\u001b[0m \u001b[0;34m=\u001b[0m \u001b[0;32mFalse\u001b[0m\u001b[0;34m\u001b[0m\u001b[0m\n\u001b[0;32m--> 140\u001b[0;31m     \u001b[0murl\u001b[0m \u001b[0;34m=\u001b[0m \u001b[0mplot\u001b[0m\u001b[0;34m(\u001b[0m\u001b[0mfigure_or_data\u001b[0m\u001b[0;34m,\u001b[0m \u001b[0;34m**\u001b[0m\u001b[0mplot_options\u001b[0m\u001b[0;34m)\u001b[0m\u001b[0;34m\u001b[0m\u001b[0m\n\u001b[0m\u001b[1;32m    141\u001b[0m \u001b[0;34m\u001b[0m\u001b[0m\n\u001b[1;32m    142\u001b[0m     \u001b[0;32mif\u001b[0m \u001b[0misinstance\u001b[0m\u001b[0;34m(\u001b[0m\u001b[0mfigure_or_data\u001b[0m\u001b[0;34m,\u001b[0m \u001b[0mdict\u001b[0m\u001b[0;34m)\u001b[0m\u001b[0;34m:\u001b[0m\u001b[0;34m\u001b[0m\u001b[0m\n",
      "\u001b[0;32m~/anaconda2/envs/TFM/lib/python3.6/site-packages/plotly/plotly/plotly.py\u001b[0m in \u001b[0;36mplot\u001b[0;34m(figure_or_data, validate, **plot_options)\u001b[0m\n\u001b[1;32m    201\u001b[0m     \u001b[0mfigure\u001b[0m \u001b[0;34m=\u001b[0m \u001b[0mtools\u001b[0m\u001b[0;34m.\u001b[0m\u001b[0mreturn_figure_from_figure_or_data\u001b[0m\u001b[0;34m(\u001b[0m\u001b[0mfigure_or_data\u001b[0m\u001b[0;34m,\u001b[0m \u001b[0mvalidate\u001b[0m\u001b[0;34m)\u001b[0m\u001b[0;34m\u001b[0m\u001b[0m\n\u001b[1;32m    202\u001b[0m     \u001b[0;32mfor\u001b[0m \u001b[0mentry\u001b[0m \u001b[0;32min\u001b[0m \u001b[0mfigure\u001b[0m\u001b[0;34m[\u001b[0m\u001b[0;34m'data'\u001b[0m\u001b[0;34m]\u001b[0m\u001b[0;34m:\u001b[0m\u001b[0;34m\u001b[0m\u001b[0m\n\u001b[0;32m--> 203\u001b[0;31m         \u001b[0;32mif\u001b[0m \u001b[0;34m(\u001b[0m\u001b[0;34m'type'\u001b[0m \u001b[0;32min\u001b[0m \u001b[0mentry\u001b[0m\u001b[0;34m)\u001b[0m \u001b[0;32mand\u001b[0m \u001b[0;34m(\u001b[0m\u001b[0mentry\u001b[0m\u001b[0;34m[\u001b[0m\u001b[0;34m'type'\u001b[0m\u001b[0;34m]\u001b[0m \u001b[0;34m==\u001b[0m \u001b[0;34m'scattergl'\u001b[0m\u001b[0;34m)\u001b[0m\u001b[0;34m:\u001b[0m\u001b[0;34m\u001b[0m\u001b[0m\n\u001b[0m\u001b[1;32m    204\u001b[0m             \u001b[0;32mcontinue\u001b[0m\u001b[0;34m\u001b[0m\u001b[0m\n\u001b[1;32m    205\u001b[0m         \u001b[0;32mfor\u001b[0m \u001b[0mkey\u001b[0m\u001b[0;34m,\u001b[0m \u001b[0mval\u001b[0m \u001b[0;32min\u001b[0m \u001b[0mlist\u001b[0m\u001b[0;34m(\u001b[0m\u001b[0mentry\u001b[0m\u001b[0;34m.\u001b[0m\u001b[0mitems\u001b[0m\u001b[0;34m(\u001b[0m\u001b[0;34m)\u001b[0m\u001b[0;34m)\u001b[0m\u001b[0;34m:\u001b[0m\u001b[0;34m\u001b[0m\u001b[0m\n",
      "\u001b[0;31mTypeError\u001b[0m: argument of type 'int' is not iterable"
     ]
    }
   ],
   "source": [
    "import plotly.plotly as py\n",
    "import plotly.graph_objs as go\n",
    "data = list(map(int, list(test_cost[(test_y == 0) & (test_cost < 500)])))\n",
    "py.iplot(data, filename='basic histogram', validate=False)"
   ]
  },
  {
   "cell_type": "code",
   "execution_count": null,
   "metadata": {
    "scrolled": true
   },
   "outputs": [],
   "source": [
    "#plt.hist(test_cost[np.where(test_y == 1)], bins = 100)\n",
    "plt.hist(test_cost[(test_y == 1) & (test_cost < 500)], bins = 100, color='red', normed=1)\n",
    "plt.title('Free energy distribution of fraud cases')\n",
    "plt.xlabel('Free energy')\n",
    "plt.ylabel('Probabilities')\n",
    "plt.show()"
   ]
  },
  {
   "cell_type": "markdown",
   "metadata": {},
   "source": [
    "## Finding a threshold for real time fraud detector"
   ]
  },
  {
   "cell_type": "markdown",
   "metadata": {},
   "source": [
    "### Precision Recall Curve in general"
   ]
  },
  {
   "cell_type": "code",
   "execution_count": null,
   "metadata": {},
   "outputs": [],
   "source": [
    "from sklearn.metrics import precision_recall_curve\n",
    "\n",
    "def plot_precision_recall(lines):\n",
    "    \n",
    "\n",
    "    for precision, recall, label in lines:\n",
    "        plt.plot(recall, precision, label=label)\n",
    "    plt.xlabel('Recall')\n",
    "    plt.ylabel('Precision')\n",
    "    plt.ylim([0.0, 1.05])\n",
    "    plt.xlim([0.0, 1.0])\n",
    "    plt.title('Precision-Recall')\n",
    "    plt.legend(loc=\"upper right\")\n",
    "    plt.show()\n",
    "    \n",
    "lines = []\n",
    "precision, recall, threshold = precision_recall_curve(test_y, test_cost)\n",
    "\n",
    "lines.append( (precision, recall, 'Precision Recall Curve') )\n",
    "plot_precision_recall(lines)"
   ]
  },
  {
   "cell_type": "markdown",
   "metadata": {},
   "source": [
    "### Finding a threshold of Free Energy on range(0, 200) that best balances Precision and Recall"
   ]
  },
  {
   "cell_type": "code",
   "execution_count": null,
   "metadata": {},
   "outputs": [],
   "source": [
    "#precisions = []\n",
    "#recalls = []\n",
    "#all_pos = sum(test_y)\n",
    "#for threshold in range(1, 200):\n",
    "#    all_predicted = sum(test_cost > threshold)\n",
    "#    TP = sum((test_cost > threshold) & (test_y == 1))\n",
    "    \n",
    "#    precisions.append(TP  / all_predicted)\n",
    "#    recalls.append(TP / all_pos)\n",
    "\n",
    "#plt.plot( recalls, label = 'recall')\n",
    "#plt.axvline(100, color = 'red')\n",
    "\n",
    "#plt.title(\"Recall curve\")\n",
    "#plt.xlabel(\"FE\")\n",
    "#plt.ylabel(\"Recall\")\n",
    "#plt.legend()\n",
    "#plt.show()"
   ]
  },
  {
   "cell_type": "code",
   "execution_count": null,
   "metadata": {},
   "outputs": [],
   "source": [
    "#plt.plot( precisions, label = 'precision')\n",
    "#plt.axvline(100, color = 'red')\n",
    "\n",
    "#plt.title(\"Precision curve\")\n",
    "#plt.xlabel(\"FE\")\n",
    "#plt.ylabel(\"Precision\")\n",
    "#plt.legend()\n",
    "#plt.show()"
   ]
  },
  {
   "cell_type": "markdown",
   "metadata": {
    "collapsed": true
   },
   "source": [
    "## Take a look at the top 500 transactions for example ...."
   ]
  },
  {
   "cell_type": "code",
   "execution_count": null,
   "metadata": {},
   "outputs": [],
   "source": [
    "#value_500 = sorted(test_cost)[-500]\n",
    "#population_mean = np.mean(test_y)\n",
    "#model_mean_500 = np.mean(test_y[test_cost > value_500])\n",
    "#print(\"Perc of fraud in val data is: %0.2f%%; perc of fraud in top 500 by model is: %0.2f%%\" % (population_mean*100, model_mean_500*100))"
   ]
  },
  {
   "cell_type": "code",
   "execution_count": null,
   "metadata": {},
   "outputs": [],
   "source": []
  }
 ],
 "metadata": {
  "kernelspec": {
   "display_name": "Python 3",
   "language": "python",
   "name": "python3"
  },
  "language_info": {
   "codemirror_mode": {
    "name": "ipython",
    "version": 3
   },
   "file_extension": ".py",
   "mimetype": "text/x-python",
   "name": "python",
   "nbconvert_exporter": "python",
   "pygments_lexer": "ipython3",
   "version": "3.6.5"
  }
 },
 "nbformat": 4,
 "nbformat_minor": 2
}
