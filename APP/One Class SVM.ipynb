{
 "cells": [
  {
   "cell_type": "code",
   "execution_count": 1,
   "metadata": {},
   "outputs": [
    {
     "data": {
      "text/html": [
       "<div>\n",
       "<style scoped>\n",
       "    .dataframe tbody tr th:only-of-type {\n",
       "        vertical-align: middle;\n",
       "    }\n",
       "\n",
       "    .dataframe tbody tr th {\n",
       "        vertical-align: top;\n",
       "    }\n",
       "\n",
       "    .dataframe thead th {\n",
       "        text-align: right;\n",
       "    }\n",
       "</style>\n",
       "<table border=\"1\" class=\"dataframe\">\n",
       "  <thead>\n",
       "    <tr style=\"text-align: right;\">\n",
       "      <th></th>\n",
       "      <th>step</th>\n",
       "      <th>age</th>\n",
       "      <th>gender</th>\n",
       "      <th>category</th>\n",
       "      <th>amount</th>\n",
       "    </tr>\n",
       "  </thead>\n",
       "  <tbody>\n",
       "    <tr>\n",
       "      <th>0</th>\n",
       "      <td>0</td>\n",
       "      <td>4</td>\n",
       "      <td>2</td>\n",
       "      <td>12</td>\n",
       "      <td>4.55</td>\n",
       "    </tr>\n",
       "    <tr>\n",
       "      <th>1</th>\n",
       "      <td>0</td>\n",
       "      <td>2</td>\n",
       "      <td>2</td>\n",
       "      <td>12</td>\n",
       "      <td>39.68</td>\n",
       "    </tr>\n",
       "    <tr>\n",
       "      <th>2</th>\n",
       "      <td>0</td>\n",
       "      <td>4</td>\n",
       "      <td>1</td>\n",
       "      <td>12</td>\n",
       "      <td>26.89</td>\n",
       "    </tr>\n",
       "    <tr>\n",
       "      <th>3</th>\n",
       "      <td>0</td>\n",
       "      <td>3</td>\n",
       "      <td>2</td>\n",
       "      <td>12</td>\n",
       "      <td>17.25</td>\n",
       "    </tr>\n",
       "    <tr>\n",
       "      <th>4</th>\n",
       "      <td>0</td>\n",
       "      <td>5</td>\n",
       "      <td>2</td>\n",
       "      <td>12</td>\n",
       "      <td>35.72</td>\n",
       "    </tr>\n",
       "  </tbody>\n",
       "</table>\n",
       "</div>"
      ],
      "text/plain": [
       "   step  age  gender  category  amount\n",
       "0     0    4       2        12    4.55\n",
       "1     0    2       2        12   39.68\n",
       "2     0    4       1        12   26.89\n",
       "3     0    3       2        12   17.25\n",
       "4     0    5       2        12   35.72"
      ]
     },
     "execution_count": 1,
     "metadata": {},
     "output_type": "execute_result"
    }
   ],
   "source": [
    "import pandas as pd\n",
    "import numpy as np\n",
    "import math\n",
    "import random\n",
    "%matplotlib inline\n",
    "import random\n",
    "from matplotlib import pyplot\n",
    "import os\n",
    "from sklearn import preprocessing\n",
    "\n",
    "df = pd.read_csv('/Users/eduardorodriguez/Desktop/TFM/DATA/banksim/banksim.csv')\n",
    "df.head()\n",
    "\n",
    "le = preprocessing.LabelEncoder()\n",
    "le.fit(list(set(df['category'])))\n",
    "df['category'] = le.transform(df['category'])\n",
    "\n",
    "le.fit(list(set(df['age'])))\n",
    "df['age'] = le.transform(df['age'])\n",
    "\n",
    "le.fit(list(set(df['gender'])))\n",
    "df['gender'] = le.transform(df['gender'])\n",
    "\n",
    "df_data = df\n",
    "#X = df.loc[(df.category == 'es_sportsandtoys') | (df.category == 'es_fashion') | (df.category == 'es_travel') | (df.category == 'es_home') |(df.category == 'es_health') | (df.category == 'es_leisure') | df.category == 'es_tech') | (df.category == 'es_otherservices') | (df.category == 'es_barsandrestaurants') |(df.category == 'es_hyper') | (df.category == 'es_wellnessandbeauty')]\n",
    "y_true = df_data['fraud']\n",
    "\n",
    "df = df.drop(['customer', 'merchant', 'zipMerchant', 'zipcodeOri'], axis = 1)\n",
    "df = df.rename(index=str, columns={\"fraud\": \"Class\"})\n",
    "df_data = df_data.drop(['customer', 'merchant', 'zipMerchant', 'zipcodeOri', 'fraud'], axis = 1)\n",
    "\n",
    "df_data.head()"
   ]
  },
  {
   "cell_type": "code",
   "execution_count": 13,
   "metadata": {},
   "outputs": [],
   "source": [
    "from sklearn.ensemble import IsolationForest\n",
    "from sklearn.svm import OneClassSVM\n",
    "from sklearn.neighbors import LocalOutlierFactor ## Only available with scikit-learn 0.19 and later\n",
    "from sklearn.cluster import KMeans\n",
    "from sklearn.model_selection import train_test_split\n",
    "from sklearn.metrics import roc_auc_score\n",
    "from sklearn.metrics import confusion_matrix,f1_score\n",
    "from sklearn.metrics import confusion_matrix\n",
    "from sklearn.metrics import accuracy_score\n",
    "from sklearn.metrics import precision_score\n",
    "from sklearn.metrics import recall_score\n",
    "from sklearn.metrics import f1_score\n",
    "X_train, X_test, y_train, y_test = train_test_split(df_data, y_true, test_size=0.3, random_state=42)"
   ]
  },
  {
   "cell_type": "code",
   "execution_count": 14,
   "metadata": {},
   "outputs": [],
   "source": [
    "## Not valid for LOF\n",
    "def predict(X,mdlLst):\n",
    "    y_pred=np.zeros(X.shape[0])\n",
    "    for clf in mdlLst:\n",
    "        y_pred=np.add(y_pred,clf.decision_function(X).reshape(X.shape[0],))\n",
    "    y_pred=(y_pred*1.0)/len(mdlLst)\n",
    "    return y_pred"
   ]
  },
  {
   "cell_type": "code",
   "execution_count": 15,
   "metadata": {},
   "outputs": [],
   "source": [
    "## Not valid for LOF\n",
    "def train(X,clf,ensembleSize=5,sampleSize=10000):\n",
    "    mdlLst=[]\n",
    "    for n in range(ensembleSize):\n",
    "        X=df_data.sample(sampleSize)\n",
    "        clf.fit(X)\n",
    "        mdlLst.append(clf)\n",
    "    \n",
    "    return mdlLst"
   ]
  },
  {
   "cell_type": "code",
   "execution_count": 16,
   "metadata": {},
   "outputs": [
    {
     "name": "stdout",
     "output_type": "stream",
     "text": [
      "Type of Kernel: linear\\\\\n",
      "\\\\\n",
      "One Class Suport Vector Machine\\\\\n",
      "Confusion Matrix\\\\\n",
      "tn = 87731 fp = 88546\\\\\n",
      "fn = 1892 tp = 224\\\\\n",
      "Scores\\\\\n",
      "Accuracy --> 0.4930406462136967\\\\\n",
      "Precison --> 0.0025233750140813338\\\\\n",
      "Recall --> 0.10586011342155009\\\\\n",
      "F1 --> 0.004929252030015624\\\\\n",
      "\\\\\n",
      "\\\\\n",
      "Type of Kernel: poly\\\\\n",
      "\\\\\n",
      "One Class Suport Vector Machine\\\\\n",
      "Confusion Matrix\\\\\n",
      "tn = 86889 fp = 89388\\\\\n",
      "fn = 1894 tp = 222\\\\\n",
      "Scores\\\\\n",
      "Accuracy --> 0.4883095188712562\\\\\n",
      "Precison --> 0.0024774020756611987\\\\\n",
      "Recall --> 0.10491493383742911\\\\\n",
      "F1 --> 0.004840503237904193\\\\\n",
      "\\\\\n",
      "\\\\\n",
      "Type of Kernel: rbf\\\\\n",
      "\\\\\n",
      "One Class Suport Vector Machine\\\\\n",
      "Confusion Matrix\\\\\n",
      "tn = 51617 fp = 124660\\\\\n",
      "fn = 0 tp = 2116\\\\\n",
      "Scores\\\\\n",
      "Accuracy --> 0.30120576480018835\\\\\n",
      "Precison --> 0.016690856313497822\\\\\n",
      "Recall --> 1.0\\\\\n",
      "F1 --> 0.03283369022127052\\\\\n",
      "\\\\\n",
      "\\\\\n",
      "Type of Kernel: sigmoid\\\\\n",
      "\\\\\n",
      "One Class Suport Vector Machine\\\\\n",
      "Confusion Matrix\\\\\n",
      "tn = 175500 fp = 777\\\\\n",
      "fn = 2113 tp = 3\\\\\n",
      "Scores\\\\\n",
      "Accuracy --> 0.9837998127729227\\\\\n",
      "Precison --> 0.0038461538461538464\\\\\n",
      "Recall --> 0.0014177693761814746\\\\\n",
      "F1 --> 0.00207182320441989\\\\\n",
      "\\\\\n",
      "\\\\\n",
      "Type of Kernel: precomputed\\\\\n",
      "\\\\\n"
     ]
    },
    {
     "ename": "ValueError",
     "evalue": "X.shape[0] should be equal to X.shape[1]",
     "output_type": "error",
     "traceback": [
      "\u001b[0;31m---------------------------------------------------------------------------\u001b[0m",
      "\u001b[0;31mValueError\u001b[0m                                Traceback (most recent call last)",
      "\u001b[0;32m<ipython-input-16-54757f445059>\u001b[0m in \u001b[0;36m<module>\u001b[0;34m()\u001b[0m\n\u001b[1;32m     11\u001b[0m \u001b[0;34m\u001b[0m\u001b[0m\n\u001b[1;32m     12\u001b[0m     \u001b[0mget_ipython\u001b[0m\u001b[0;34m(\u001b[0m\u001b[0;34m)\u001b[0m\u001b[0;34m.\u001b[0m\u001b[0mrun_line_magic\u001b[0m\u001b[0;34m(\u001b[0m\u001b[0;34m'timeit'\u001b[0m\u001b[0;34m,\u001b[0m \u001b[0;34m''\u001b[0m\u001b[0;34m)\u001b[0m\u001b[0;34m\u001b[0m\u001b[0m\n\u001b[0;32m---> 13\u001b[0;31m     \u001b[0mosvm_mdlLst\u001b[0m\u001b[0;34m=\u001b[0m\u001b[0mtrain\u001b[0m\u001b[0;34m(\u001b[0m\u001b[0mX_train\u001b[0m\u001b[0;34m,\u001b[0m\u001b[0malg\u001b[0m\u001b[0;34m)\u001b[0m\u001b[0;34m\u001b[0m\u001b[0m\n\u001b[0m\u001b[1;32m     14\u001b[0m     \u001b[0mosvm_mdlLst\u001b[0m\u001b[0;34m=\u001b[0m\u001b[0mtrain\u001b[0m\u001b[0;34m(\u001b[0m\u001b[0mX_train\u001b[0m\u001b[0;34m,\u001b[0m\u001b[0malg\u001b[0m\u001b[0;34m)\u001b[0m\u001b[0;34m\u001b[0m\u001b[0m\n\u001b[1;32m     15\u001b[0m     \u001b[0mget_ipython\u001b[0m\u001b[0;34m(\u001b[0m\u001b[0;34m)\u001b[0m\u001b[0;34m.\u001b[0m\u001b[0mrun_line_magic\u001b[0m\u001b[0;34m(\u001b[0m\u001b[0;34m'timeit'\u001b[0m\u001b[0;34m,\u001b[0m \u001b[0;34m''\u001b[0m\u001b[0;34m)\u001b[0m\u001b[0;34m\u001b[0m\u001b[0m\n",
      "\u001b[0;32m<ipython-input-15-3ea0e4c5b7b6>\u001b[0m in \u001b[0;36mtrain\u001b[0;34m(X, clf, ensembleSize, sampleSize)\u001b[0m\n\u001b[1;32m      4\u001b[0m     \u001b[0;32mfor\u001b[0m \u001b[0mn\u001b[0m \u001b[0;32min\u001b[0m \u001b[0mrange\u001b[0m\u001b[0;34m(\u001b[0m\u001b[0mensembleSize\u001b[0m\u001b[0;34m)\u001b[0m\u001b[0;34m:\u001b[0m\u001b[0;34m\u001b[0m\u001b[0m\n\u001b[1;32m      5\u001b[0m         \u001b[0mX\u001b[0m\u001b[0;34m=\u001b[0m\u001b[0mdf_data\u001b[0m\u001b[0;34m.\u001b[0m\u001b[0msample\u001b[0m\u001b[0;34m(\u001b[0m\u001b[0msampleSize\u001b[0m\u001b[0;34m)\u001b[0m\u001b[0;34m\u001b[0m\u001b[0m\n\u001b[0;32m----> 6\u001b[0;31m         \u001b[0mclf\u001b[0m\u001b[0;34m.\u001b[0m\u001b[0mfit\u001b[0m\u001b[0;34m(\u001b[0m\u001b[0mX\u001b[0m\u001b[0;34m)\u001b[0m\u001b[0;34m\u001b[0m\u001b[0m\n\u001b[0m\u001b[1;32m      7\u001b[0m         \u001b[0mmdlLst\u001b[0m\u001b[0;34m.\u001b[0m\u001b[0mappend\u001b[0m\u001b[0;34m(\u001b[0m\u001b[0mclf\u001b[0m\u001b[0;34m)\u001b[0m\u001b[0;34m\u001b[0m\u001b[0m\n\u001b[1;32m      8\u001b[0m \u001b[0;34m\u001b[0m\u001b[0m\n",
      "\u001b[0;32m~/anaconda2/envs/TFM/lib/python3.6/site-packages/sklearn/svm/classes.py\u001b[0m in \u001b[0;36mfit\u001b[0;34m(self, X, y, sample_weight, **params)\u001b[0m\n\u001b[1;32m   1082\u001b[0m         \"\"\"\n\u001b[1;32m   1083\u001b[0m         super(OneClassSVM, self).fit(X, np.ones(_num_samples(X)),\n\u001b[0;32m-> 1084\u001b[0;31m                                      sample_weight=sample_weight, **params)\n\u001b[0m\u001b[1;32m   1085\u001b[0m         \u001b[0;32mreturn\u001b[0m \u001b[0mself\u001b[0m\u001b[0;34m\u001b[0m\u001b[0m\n\u001b[1;32m   1086\u001b[0m \u001b[0;34m\u001b[0m\u001b[0m\n",
      "\u001b[0;32m~/anaconda2/envs/TFM/lib/python3.6/site-packages/sklearn/svm/base.py\u001b[0m in \u001b[0;36mfit\u001b[0;34m(self, X, y, sample_weight)\u001b[0m\n\u001b[1;32m    162\u001b[0m \u001b[0;34m\u001b[0m\u001b[0m\n\u001b[1;32m    163\u001b[0m         \u001b[0;32mif\u001b[0m \u001b[0mself\u001b[0m\u001b[0;34m.\u001b[0m\u001b[0mkernel\u001b[0m \u001b[0;34m==\u001b[0m \u001b[0;34m\"precomputed\"\u001b[0m \u001b[0;32mand\u001b[0m \u001b[0mX\u001b[0m\u001b[0;34m.\u001b[0m\u001b[0mshape\u001b[0m\u001b[0;34m[\u001b[0m\u001b[0;36m0\u001b[0m\u001b[0;34m]\u001b[0m \u001b[0;34m!=\u001b[0m \u001b[0mX\u001b[0m\u001b[0;34m.\u001b[0m\u001b[0mshape\u001b[0m\u001b[0;34m[\u001b[0m\u001b[0;36m1\u001b[0m\u001b[0;34m]\u001b[0m\u001b[0;34m:\u001b[0m\u001b[0;34m\u001b[0m\u001b[0m\n\u001b[0;32m--> 164\u001b[0;31m             \u001b[0;32mraise\u001b[0m \u001b[0mValueError\u001b[0m\u001b[0;34m(\u001b[0m\u001b[0;34m\"X.shape[0] should be equal to X.shape[1]\"\u001b[0m\u001b[0;34m)\u001b[0m\u001b[0;34m\u001b[0m\u001b[0m\n\u001b[0m\u001b[1;32m    165\u001b[0m \u001b[0;34m\u001b[0m\u001b[0m\n\u001b[1;32m    166\u001b[0m         \u001b[0;32mif\u001b[0m \u001b[0msample_weight\u001b[0m\u001b[0;34m.\u001b[0m\u001b[0mshape\u001b[0m\u001b[0;34m[\u001b[0m\u001b[0;36m0\u001b[0m\u001b[0;34m]\u001b[0m \u001b[0;34m>\u001b[0m \u001b[0;36m0\u001b[0m \u001b[0;32mand\u001b[0m \u001b[0msample_weight\u001b[0m\u001b[0;34m.\u001b[0m\u001b[0mshape\u001b[0m\u001b[0;34m[\u001b[0m\u001b[0;36m0\u001b[0m\u001b[0;34m]\u001b[0m \u001b[0;34m!=\u001b[0m \u001b[0mX\u001b[0m\u001b[0;34m.\u001b[0m\u001b[0mshape\u001b[0m\u001b[0;34m[\u001b[0m\u001b[0;36m0\u001b[0m\u001b[0;34m]\u001b[0m\u001b[0;34m:\u001b[0m\u001b[0;34m\u001b[0m\u001b[0m\n",
      "\u001b[0;31mValueError\u001b[0m: X.shape[0] should be equal to X.shape[1]"
     ]
    }
   ],
   "source": [
    "acuracy = []\n",
    "precision = []\n",
    "recall = []\n",
    "f1 = []\n",
    "timekm = []\n",
    "for i in ['linear', 'poly', 'rbf', 'sigmoid']:\n",
    "    print('Type of Kernel: ' + str(i), end='')\n",
    "    print('\\\\\\\\')\n",
    "    print('\\\\\\\\')\n",
    "    alg=OneClassSVM(kernel=i,gamma='auto', coef0=0.0, tol=0.001, nu=0.5, \\\n",
    "                shrinking=True, cache_size=200, verbose=False, max_iter=-1, random_state=42)\n",
    "    \n",
    "    %%timeit\n",
    "    osvm_mdlLst=train(X_train,alg)\n",
    "    osvm_mdlLst=train(X_train,alg)\n",
    "    %%timeit\n",
    "    osvm_y_pred=predict(X_test,osvm_mdlLst)\n",
    "\n",
    "    #Creating class labels based on decision function\n",
    "    osvm_y_pred_class=osvm_y_pred.copy()\n",
    "    osvm_y_pred_class[osvm_y_pred<0]=1\n",
    "    osvm_y_pred_class[osvm_y_pred>=0]=0\n",
    "    \n",
    "    osvm_y_pred=predict(X_test,osvm_mdlLst)\n",
    "\n",
    "    #Creating class labels based on decision function\n",
    "    osvm_y_pred_class=osvm_y_pred.copy()\n",
    "    osvm_y_pred_class[osvm_y_pred<0]=1\n",
    "    osvm_y_pred_class[osvm_y_pred>=0]=0\n",
    "    \n",
    "    roc_auc_score(y_test, osvm_y_pred_class)\n",
    "    osvm_cm=confusion_matrix(y_test, osvm_y_pred_class)\n",
    "    \n",
    "    knn_accuracy_score=accuracy_score(y_test, osvm_y_pred_class)\n",
    "    knn_precison_score=precision_score(y_test, osvm_y_pred_class)\n",
    "    knn_recall_score=recall_score(y_test, osvm_y_pred_class)\n",
    "    knn_f1_score=f1_score(y_test, osvm_y_pred_class)\n",
    "\n",
    "    print(\"One Class Suport Vector Machine\\\\\\\\\")\n",
    "    print(\"Confusion Matrix\\\\\\\\\")\n",
    "    print(\"tn =\",osvm_cm[0][0],\"fp =\",osvm_cm[0][1], end='')\n",
    "    print('\\\\\\\\')\n",
    "    print(\"fn =\",osvm_cm[1][0],\"tp =\",osvm_cm[1][1], end='')\n",
    "    print('\\\\\\\\')\n",
    "    print(\"Scores\", end='')\n",
    "    print('\\\\\\\\')\n",
    "    print(\"Accuracy -->\",knn_accuracy_score, end='')\n",
    "    print('\\\\\\\\')\n",
    "    print(\"Precison -->\",knn_precison_score, end='')\n",
    "    print('\\\\\\\\')\n",
    "    print(\"Recall -->\",knn_recall_score, end='')\n",
    "    print('\\\\\\\\')\n",
    "    print(\"F1 -->\",knn_f1_score, end='')\n",
    "    print('\\\\\\\\')\n",
    "    print('\\\\\\\\')\n",
    "    print('\\\\\\\\')\n",
    "    \n",
    "    acuracy += [knn_accuracy_score,]\n",
    "    precision += [knn_precison_score,]\n",
    "    recall += [knn_recall_score,]\n",
    "    f1 += [knn_f1_score,]"
   ]
  },
  {
   "cell_type": "code",
   "execution_count": 19,
   "metadata": {},
   "outputs": [
    {
     "data": {
      "text/plain": [
       "Text(0.5,0,'Acuracy Scores')"
      ]
     },
     "execution_count": 19,
     "metadata": {},
     "output_type": "execute_result"
    },
    {
     "data": {
      "image/png": "[encoded data removed]",
      "text/plain": [
       "<Figure size 432x288 with 1 Axes>"
      ]
     },
     "metadata": {},
     "output_type": "display_data"
    }
   ],
   "source": [
    "pyplot.title('Acuracy Scores')\n",
    "pyplot.barh(['linear', 'poly', 'rbf', 'sigmoid'], list(map(lambda x: x - min(acuracy) + 0.1, acuracy)), align='center')\n",
    "pyplot.xlabel('Acuracy Scores')"
   ]
  },
  {
   "cell_type": "code",
   "execution_count": 25,
   "metadata": {},
   "outputs": [
    {
     "data": {
      "text/plain": [
       "Text(0.5,0,'Precision Scores')"
      ]
     },
     "execution_count": 25,
     "metadata": {},
     "output_type": "execute_result"
    },
    {
     "data": {
      "image/png": "[encoded data removed]",
      "text/plain": [
       "<Figure size 432x288 with 1 Axes>"
      ]
     },
     "metadata": {},
     "output_type": "display_data"
    }
   ],
   "source": [
    "pyplot.title('Precision Scores')\n",
    "pyplot.barh(['linear', 'poly', 'rbf', 'sigmoid'], list(map(lambda x: x - min(precision) + 0.001, precision)), align='center')\n",
    "pyplot.xlabel('Precision Scores')"
   ]
  },
  {
   "cell_type": "code",
   "execution_count": 22,
   "metadata": {},
   "outputs": [
    {
     "data": {
      "text/plain": [
       "Text(0.5,0,'Recall Scores')"
      ]
     },
     "execution_count": 22,
     "metadata": {},
     "output_type": "execute_result"
    },
    {
     "data": {
      "image/png": "[encoded data removed]",
      "text/plain": [
       "<Figure size 432x288 with 1 Axes>"
      ]
     },
     "metadata": {},
     "output_type": "display_data"
    }
   ],
   "source": [
    "pyplot.title('Recall Scores')\n",
    "pyplot.barh(['linear', 'poly', 'rbf', 'sigmoid'], list(map(lambda x: x - min(recall) + 0.1, recall)), align='center')\n",
    "pyplot.xlabel('Recall Scores')"
   ]
  },
  {
   "cell_type": "code",
   "execution_count": 24,
   "metadata": {},
   "outputs": [
    {
     "data": {
      "text/plain": [
       "Text(0.5,0,'F1 Scores')"
      ]
     },
     "execution_count": 24,
     "metadata": {},
     "output_type": "execute_result"
    },
    {
     "data": {
      "image/png": "[encoded data removed]",
      "text/plain": [
       "<Figure size 432x288 with 1 Axes>"
      ]
     },
     "metadata": {},
     "output_type": "display_data"
    }
   ],
   "source": [
    "pyplot.title('F1 Scores')\n",
    "pyplot.barh(['linear', 'poly', 'rbf', 'sigmoid'], list(map(lambda x: x - min(f1) + 0.01, f1)), align='center')\n",
    "pyplot.xlabel('F1 Scores')"
   ]
  },
  {
   "cell_type": "code",
   "execution_count": null,
   "metadata": {},
   "outputs": [],
   "source": []
  }
 ],
 "metadata": {
  "kernelspec": {
   "display_name": "Python 3",
   "language": "python",
   "name": "python3"
  },
  "language_info": {
   "codemirror_mode": {
    "name": "ipython",
    "version": 3
   },
   "file_extension": ".py",
   "mimetype": "text/x-python",
   "name": "python",
   "nbconvert_exporter": "python",
   "pygments_lexer": "ipython3",
   "version": "3.6.5"
  }
 },
 "nbformat": 4,
 "nbformat_minor": 2
}
